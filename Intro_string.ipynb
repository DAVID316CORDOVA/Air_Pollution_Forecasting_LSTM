{
  "nbformat": 4,
  "nbformat_minor": 0,
  "metadata": {
    "colab": {
      "provenance": [],
      "include_colab_link": true
    },
    "kernelspec": {
      "name": "python3",
      "display_name": "Python 3"
    },
    "language_info": {
      "name": "python"
    }
  },
  "cells": [
    {
      "cell_type": "markdown",
      "metadata": {
        "id": "view-in-github",
        "colab_type": "text"
      },
      "source": [
        "<a href=\"https://colab.research.google.com/github/DAVID316CORDOVA/Air_Pollution_Forecasting_LSTM/blob/master/Intro_string.ipynb\" target=\"_parent\"><img src=\"https://colab.research.google.com/assets/colab-badge.svg\" alt=\"Open In Colab\"/></a>"
      ]
    },
    {
      "cell_type": "markdown",
      "source": [
        "sintaxis de funciones en python\n",
        "\n",
        "```\n",
        "def nombre_de_la_funcion(input):\n",
        "  cuerpo_de_la_funcion\n",
        "  return output\n",
        "```\n",
        "\n"
      ],
      "metadata": {
        "id": "GNEPbCNd4QBs"
      }
    },
    {
      "cell_type": "markdown",
      "source": [
        "sintaxis de loop en python\n",
        "\n",
        "```\n",
        "for variable in sequence:\n",
        "  body\n",
        "```\n",
        "\n"
      ],
      "metadata": {
        "id": "O6fon6VBRDKE"
      }
    },
    {
      "cell_type": "markdown",
      "source": [
        "sintaxis condicionales\n",
        "\n",
        "```\n",
        "if condition1:\n",
        "  if-block\n",
        "elif condition2:\n",
        "  elif-block\n",
        "else:\n",
        "  else-block\n",
        "```\n",
        "\n"
      ],
      "metadata": {
        "id": "lYQFwWFpRwii"
      }
    },
    {
      "cell_type": "markdown",
      "source": [
        "#Metodos String"
      ],
      "metadata": {
        "id": "Pak9XtDXqmUo"
      }
    },
    {
      "cell_type": "code",
      "execution_count": 1,
      "metadata": {
        "id": "tTt8wREuqi2f"
      },
      "outputs": [],
      "source": [
        "example_string = \"Paciente masculino de 36 años, sin antecedentes.\""
      ]
    },
    {
      "cell_type": "markdown",
      "source": [
        "##String indexing and Slicing"
      ],
      "metadata": {
        "id": "elJC8fT5v_Pj"
      }
    },
    {
      "cell_type": "code",
      "source": [
        "#tamaño del texto\n",
        "print(len(example_string))"
      ],
      "metadata": {
        "id": "D4Wm8dtWrFSO"
      },
      "execution_count": null,
      "outputs": []
    },
    {
      "cell_type": "code",
      "source": [
        "#indexing\n",
        "print(example_string[1])"
      ],
      "metadata": {
        "id": "AsGrjYswsDfm"
      },
      "execution_count": null,
      "outputs": []
    },
    {
      "cell_type": "code",
      "source": [
        "print(example_string[0])"
      ],
      "metadata": {
        "id": "LH6g-B8HsUbl"
      },
      "execution_count": null,
      "outputs": []
    },
    {
      "cell_type": "code",
      "source": [
        "print(example_string[48])"
      ],
      "metadata": {
        "id": "iAigTVOGsY1o"
      },
      "execution_count": null,
      "outputs": []
    },
    {
      "cell_type": "code",
      "source": [
        "print(example_string[47])"
      ],
      "metadata": {
        "id": "qRQfZ0q3ruhi"
      },
      "execution_count": null,
      "outputs": []
    },
    {
      "cell_type": "code",
      "source": [
        "#consulta del último caracter\n",
        "print(example_string[-1])"
      ],
      "metadata": {
        "id": "6SpC4qjhshM4"
      },
      "execution_count": null,
      "outputs": []
    },
    {
      "cell_type": "markdown",
      "source": [
        "##Ejercicio 1"
      ],
      "metadata": {
        "id": "DvpKW86sXkI2"
      }
    },
    {
      "cell_type": "markdown",
      "source": [
        "Modifique la función first_and_last para que devuelva True si la primera letra de la cadena es la misma que la última letra de la cadena, False si son diferentes. Tenga cuidado con la forma en que maneja la cadena vacía, que debería devolver True ya que nada es igual a nada."
      ],
      "metadata": {
        "id": "O3SJRExluIL7"
      }
    },
    {
      "cell_type": "code",
      "source": [
        "def first_and_last(message):\n",
        "    for letter in message:\n",
        "        if message[None] == message[None]:\n",
        "            return True\n",
        "        return False\n",
        "    return True"
      ],
      "metadata": {
        "id": "REkyyeRQsnWp"
      },
      "execution_count": null,
      "outputs": []
    },
    {
      "cell_type": "code",
      "source": [
        "print(first_and_last(\"else\")) #True\n",
        "print(first_and_last(\"tree\")) #False"
      ],
      "metadata": {
        "id": "5mDumKNXuHL8"
      },
      "execution_count": null,
      "outputs": []
    },
    {
      "cell_type": "code",
      "source": [
        "#Slicing\n",
        "print(example_string[:20])"
      ],
      "metadata": {
        "id": "mUjPvJQOrnrv"
      },
      "execution_count": null,
      "outputs": []
    },
    {
      "cell_type": "code",
      "source": [
        "#Slicing en inicio\n",
        "print(example_string[3:])"
      ],
      "metadata": {
        "id": "sTt2zFLvvjNH"
      },
      "execution_count": null,
      "outputs": []
    },
    {
      "cell_type": "markdown",
      "source": [
        "##Creating New String"
      ],
      "metadata": {
        "id": "w-uk79exv2g7"
      }
    },
    {
      "cell_type": "code",
      "source": [
        "#Stings in Python are immutable\n",
        "example_string[2] = \"P\""
      ],
      "metadata": {
        "id": "J2IreqwHvoWf"
      },
      "execution_count": null,
      "outputs": []
    },
    {
      "cell_type": "code",
      "source": [
        "#el index en el cual inicia la palabra\n",
        "print(example_string.index(\"Paciente\"))\n",
        "#solo un valor, la primera letra que encuentra\n",
        "print(example_string.index(\"e\"))"
      ],
      "metadata": {
        "id": "yHgXV1I1wgTN"
      },
      "execution_count": null,
      "outputs": []
    },
    {
      "cell_type": "code",
      "source": [
        "#conocer si existe una palabra en el texto\n",
        "\"Dragones\" in example_string"
      ],
      "metadata": {
        "id": "XevwWxgczOAs"
      },
      "execution_count": null,
      "outputs": []
    },
    {
      "cell_type": "code",
      "source": [
        "\"masculino\" in example_string"
      ],
      "metadata": {
        "id": "OVUfDuE_UhF6"
      },
      "execution_count": null,
      "outputs": []
    },
    {
      "cell_type": "code",
      "source": [
        "#Cambiar la palabra Paciente\n",
        "new_example_string = \"Pajaro\" + example_string[8:]\n",
        "print(example_string)\n",
        "print(new_example_string)"
      ],
      "metadata": {
        "id": "rIns0fuJxg-d"
      },
      "execution_count": null,
      "outputs": []
    },
    {
      "cell_type": "markdown",
      "source": [
        "##More string methods"
      ],
      "metadata": {
        "id": "nyLM0ymLUsul"
      }
    },
    {
      "cell_type": "code",
      "source": [
        "#convertir todo a mayusculas\n",
        "print(example_string.upper())"
      ],
      "metadata": {
        "id": "R4N9MGXB4tMY"
      },
      "execution_count": null,
      "outputs": []
    },
    {
      "cell_type": "code",
      "source": [
        "#convertir todo en minisculas\n",
        "print(example_string.lower())"
      ],
      "metadata": {
        "id": "BQ-RZuiSU9oN"
      },
      "execution_count": null,
      "outputs": []
    },
    {
      "cell_type": "code",
      "source": [
        "#eliminar espacios en blanco\n",
        "\" palabras con espacios \".strip()"
      ],
      "metadata": {
        "id": "EExe-vtRVHLM"
      },
      "execution_count": null,
      "outputs": []
    },
    {
      "cell_type": "code",
      "source": [
        "#elimina los espacios en blanco lado izquierdo\n",
        "\" palabras con espacios \".lstrip()"
      ],
      "metadata": {
        "id": "DP1Ac0_ZVU2T"
      },
      "execution_count": null,
      "outputs": []
    },
    {
      "cell_type": "code",
      "source": [
        "#elimina los espacios en blanco lado derecho\n",
        "\" palabras con espacios \".rstrip()"
      ],
      "metadata": {
        "id": "QfnpzA0sVnDF"
      },
      "execution_count": null,
      "outputs": []
    },
    {
      "cell_type": "code",
      "source": [
        "#cuantas veces aparece un letra o caracter en el string\n",
        "example_string.count(\"e\")"
      ],
      "metadata": {
        "id": "Kiuusk0HVtD1"
      },
      "execution_count": null,
      "outputs": []
    },
    {
      "cell_type": "code",
      "source": [
        "#metodo para evaluar en que termina un string.\n",
        "#cuidado con los signos de puntación y espacios en blanco\n",
        "example_string.endswith(\"entes.\")"
      ],
      "metadata": {
        "id": "EZoiDZ7HV7Z9"
      },
      "execution_count": null,
      "outputs": []
    },
    {
      "cell_type": "code",
      "source": [
        "#evalua si el string es solo numeros\n",
        "example_string.isnumeric()"
      ],
      "metadata": {
        "id": "H0H_z4xyWa6w"
      },
      "execution_count": null,
      "outputs": []
    },
    {
      "cell_type": "code",
      "source": [
        "#funcion join\n",
        "\" \".join([\"Esta\", \"es\", \"una\", \"funcion\", \"importante\", \"para\", \"unir\", \"listas\"])"
      ],
      "metadata": {
        "id": "o-hvMbFpWkh4"
      },
      "execution_count": null,
      "outputs": []
    },
    {
      "cell_type": "code",
      "source": [
        "#otro ejemplo de join pero con puntos\n",
        "\"...\".join([\"Esta\", \"es\", \"una\", \"funcion\", \"importante\", \"para\", \"unir\", \"listas\"])"
      ],
      "metadata": {
        "id": "MiVVEHPoXEdL"
      },
      "execution_count": null,
      "outputs": []
    },
    {
      "cell_type": "code",
      "source": [
        "#como convertir un string a una lista\n",
        "example_string.split()"
      ],
      "metadata": {
        "id": "JZql0EVyXK8I"
      },
      "execution_count": null,
      "outputs": []
    },
    {
      "cell_type": "markdown",
      "source": [
        "##Ejercicio 2"
      ],
      "metadata": {
        "id": "cGLOmfMbaZKX"
      }
    },
    {
      "cell_type": "markdown",
      "source": [
        "Rellena los huecos de la función de iniciales para que devuelva las iniciales de las palabras contenidas en la frase recibida, en mayúsculas. Por ejemplo: \"Universal Serial Bus\" debería devolver \"USB\"; \"local area network\" debe devolver \"LAN\"."
      ],
      "metadata": {
        "id": "KMjQ_O7TXqhc"
      }
    },
    {
      "cell_type": "code",
      "source": [
        "def initials(phrase):\n",
        "    #convertir todo a mayusculas\n",
        "    words = phrase.upper()\n",
        "    #convetir todo en una lista\n",
        "    words = words.split()\n",
        "    #crear una variable que guarde los resultados\n",
        "    result = \"\"\n",
        "    #recorrer las lista creada\n",
        "    for word in words:\n",
        "      #en el recorrido tomar la primera letra y guardarla\n",
        "        result += None\n",
        "    #retornar el resultado\n",
        "    return result"
      ],
      "metadata": {
        "id": "R1I0GhLwXina"
      },
      "execution_count": null,
      "outputs": []
    },
    {
      "cell_type": "code",
      "source": [
        "print(initials(\"Universal Serial Bus\")) # Should be: USB\n",
        "print(initials(\"local area network\")) # Should be: LAN\n",
        "print(initials(\"Operating system\")) # Should be: OS"
      ],
      "metadata": {
        "id": "BOQzbz6kXuXa"
      },
      "execution_count": null,
      "outputs": []
    },
    {
      "cell_type": "markdown",
      "source": [
        "##Formatting strings"
      ],
      "metadata": {
        "id": "jZO4gUdBZtLh"
      }
    },
    {
      "cell_type": "code",
      "source": [
        "#la forma correcta de agregar variables para que se impriman con el texto\n",
        "nombre = \"Pajaro\"\n",
        "numero = len(nombre) * 3\n",
        "print(\"Hello {}, tu numero de la suerte es {}\".format(nombre, numero))"
      ],
      "metadata": {
        "id": "ccFdyPX0ZwXL"
      },
      "execution_count": null,
      "outputs": []
    }
  ]
}